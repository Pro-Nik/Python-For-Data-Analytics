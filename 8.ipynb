{
 "cells": [
  {
   "cell_type": "markdown",
   "metadata": {},
   "source": [
    "Day-8"
   ]
  },
  {
   "cell_type": "markdown",
   "metadata": {},
   "source": [
    "List in Python "
   ]
  },
  {
   "cell_type": "markdown",
   "metadata": {},
   "source": [
    "Creating a list"
   ]
  },
  {
   "cell_type": "code",
   "execution_count": 1,
   "metadata": {},
   "outputs": [
    {
     "name": "stdout",
     "output_type": "stream",
     "text": [
      "['apple', 'banana', 'cherry']\n",
      "<class 'list'>\n"
     ]
    }
   ],
   "source": [
    "mylist = [\"apple\",\"banana\",\"cherry\"]\n",
    "print(mylist)\n",
    "print(type(mylist))"
   ]
  },
  {
   "cell_type": "markdown",
   "metadata": {},
   "source": [
    "List allow duplicates, changable and mutable."
   ]
  },
  {
   "cell_type": "code",
   "execution_count": 2,
   "metadata": {},
   "outputs": [
    {
     "name": "stdout",
     "output_type": "stream",
     "text": [
      "['apple', 'banana', 'cherry', 'apple', 'mango', 'banana']\n"
     ]
    }
   ],
   "source": [
    "mylist = [\"apple\",\"banana\",\"cherry\",\"apple\",\"mango\",\"banana\"]\n",
    "print(mylist)"
   ]
  },
  {
   "cell_type": "markdown",
   "metadata": {},
   "source": [
    "List items - Data types"
   ]
  },
  {
   "cell_type": "code",
   "execution_count": 3,
   "metadata": {},
   "outputs": [
    {
     "name": "stdout",
     "output_type": "stream",
     "text": [
      "['apple', 'banana', 'cherry']\n",
      "[1, 2, 3, 4, 5]\n",
      "[2.4, 5.7, 2.4]\n",
      "[True, False]\n",
      "\n",
      "['apple', 3, 6.7, True]\n"
     ]
    }
   ],
   "source": [
    "list1 = [\"apple\",\"banana\",\"cherry\"]\n",
    "list2= [1,2,3,4,5]\n",
    "list3= [2.4,5.7,2.4]\n",
    "list4= [True, False]\n",
    "print(list1)\n",
    "print(list2)\n",
    "print(list3)\n",
    "print(list4)\n",
    "list= [\"apple\",3,6.7,True]\n",
    "print()\n",
    "print(list)\n",
    "\n"
   ]
  },
  {
   "cell_type": "markdown",
   "metadata": {},
   "source": [
    "List length"
   ]
  },
  {
   "cell_type": "code",
   "execution_count": 4,
   "metadata": {},
   "outputs": [
    {
     "name": "stdout",
     "output_type": "stream",
     "text": [
      "8\n"
     ]
    }
   ],
   "source": [
    "mylist = [\"apple\",\"banana\",\"cherry\",\"apple\",\"mango\",\"banana\",5.7,True]\n",
    "print(len(mylist))\n"
   ]
  },
  {
   "cell_type": "markdown",
   "metadata": {},
   "source": [
    "Access Items"
   ]
  },
  {
   "cell_type": "code",
   "execution_count": 5,
   "metadata": {},
   "outputs": [
    {
     "name": "stdout",
     "output_type": "stream",
     "text": [
      "12\n",
      "76\n"
     ]
    }
   ],
   "source": [
    "list1 = [12,56,8,56,34,65,76]\n",
    "print(list1[0])\n",
    "print(list1[-1])\n"
   ]
  },
  {
   "cell_type": "markdown",
   "metadata": {},
   "source": [
    "Slicing of List"
   ]
  },
  {
   "cell_type": "code",
   "execution_count": 6,
   "metadata": {},
   "outputs": [
    {
     "name": "stdout",
     "output_type": "stream",
     "text": [
      "[12, 56, 8, 56, 34, 65]\n"
     ]
    }
   ],
   "source": [
    "list1 = [12,56,8,56,34,65,76]\n",
    "print(list1[0:6])"
   ]
  },
  {
   "cell_type": "code",
   "execution_count": 7,
   "metadata": {},
   "outputs": [
    {
     "name": "stdout",
     "output_type": "stream",
     "text": [
      "[12, 56, 8, 56, 34, 65, 76]\n"
     ]
    }
   ],
   "source": [
    "list1 = [12,56,8,56,34,65,76]\n",
    "print(list1[0:])"
   ]
  },
  {
   "cell_type": "code",
   "execution_count": 8,
   "metadata": {},
   "outputs": [
    {
     "name": "stdout",
     "output_type": "stream",
     "text": [
      "[12, 56, 76]\n"
     ]
    }
   ],
   "source": [
    "list1 = [12,56,8,56,34,65,76]\n",
    "print(list1[0:7:3])"
   ]
  },
  {
   "cell_type": "markdown",
   "metadata": {},
   "source": [
    "Change list items"
   ]
  },
  {
   "cell_type": "code",
   "execution_count": 9,
   "metadata": {},
   "outputs": [
    {
     "name": "stdout",
     "output_type": "stream",
     "text": [
      "['apple', 'grapes', 'banana']\n"
     ]
    }
   ],
   "source": [
    "list2 = [\"apple\",\"mango\",\"banana\"]\n",
    "list2[1]=\"grapes\"\n",
    "print(list2)"
   ]
  },
  {
   "cell_type": "code",
   "execution_count": 10,
   "metadata": {},
   "outputs": [
    {
     "name": "stdout",
     "output_type": "stream",
     "text": [
      "['apple', 'grapes', 'banana']\n"
     ]
    }
   ],
   "source": [
    "print(list2)"
   ]
  },
  {
   "cell_type": "code",
   "execution_count": 11,
   "metadata": {},
   "outputs": [
    {
     "name": "stdout",
     "output_type": "stream",
     "text": [
      "['apple', 'mango', 34]\n"
     ]
    }
   ],
   "source": [
    "list2 = [\"apple\",\"mango\",\"banana\"]\n",
    "list2[2]= 34\n",
    "print(list2)"
   ]
  },
  {
   "cell_type": "markdown",
   "metadata": {},
   "source": [
    "Change a range of item values"
   ]
  },
  {
   "cell_type": "code",
   "execution_count": 12,
   "metadata": {},
   "outputs": [
    {
     "name": "stdout",
     "output_type": "stream",
     "text": [
      "[3, 5, 'apple', 'mango', 'banana', 65, 12, 31, 90, 65, 34, 2]\n"
     ]
    }
   ],
   "source": [
    "a = [3,5,7,45,65,12,31,90,65,34,2]\n",
    "a[2:4] =  [\"apple\",\"mango\",\"banana\"]\n",
    "print(a)"
   ]
  },
  {
   "cell_type": "markdown",
   "metadata": {},
   "source": [
    "Add list items"
   ]
  },
  {
   "cell_type": "markdown",
   "metadata": {},
   "source": [
    "Append items"
   ]
  },
  {
   "cell_type": "code",
   "execution_count": 13,
   "metadata": {},
   "outputs": [
    {
     "name": "stdout",
     "output_type": "stream",
     "text": [
      "['apple', 'mango', 'banana', 'Guava']\n"
     ]
    }
   ],
   "source": [
    "list2 = [\"apple\",\"mango\",\"banana\"]\n",
    "list2.append(\"Guava\")\n",
    "print(list2)"
   ]
  },
  {
   "cell_type": "code",
   "execution_count": 14,
   "metadata": {},
   "outputs": [
    {
     "name": "stdout",
     "output_type": "stream",
     "text": [
      "[3, 5, 7, 45, 65, 12, 31, 90, 65, 34, 2, 67]\n"
     ]
    }
   ],
   "source": [
    "a = [3,5,7,45,65,12,31,90,65,34,2]\n",
    "a.append(67)\n",
    "print(a)"
   ]
  },
  {
   "cell_type": "markdown",
   "metadata": {},
   "source": [
    "Remove list items"
   ]
  },
  {
   "cell_type": "code",
   "execution_count": 15,
   "metadata": {},
   "outputs": [
    {
     "name": "stdout",
     "output_type": "stream",
     "text": [
      "['mango', 'banana']\n"
     ]
    }
   ],
   "source": [
    "list2 = [\"apple\",\"mango\",\"banana\"]\n",
    "list2.remove(\"apple\")\n",
    "print(list2)"
   ]
  },
  {
   "cell_type": "markdown",
   "metadata": {},
   "source": [
    "Join List"
   ]
  },
  {
   "cell_type": "code",
   "execution_count": 16,
   "metadata": {},
   "outputs": [
    {
     "name": "stdout",
     "output_type": "stream",
     "text": [
      "['apple', 'mango', 'banana', 3, 5, 7, 45, 65, 12, 31, 90, 65, 34, 2]\n"
     ]
    }
   ],
   "source": [
    "list1 = [\"apple\",\"mango\",\"banana\"]\n",
    "list2 = [3,5,7,45,65,12,31,90,65,34,2]\n",
    "list3 = list1 +list2\n",
    "print(list3)"
   ]
  },
  {
   "cell_type": "markdown",
   "metadata": {},
   "source": [
    "Check if a list contains an element"
   ]
  },
  {
   "cell_type": "code",
   "execution_count": 17,
   "metadata": {},
   "outputs": [
    {
     "data": {
      "text/plain": [
       "True"
      ]
     },
     "execution_count": 17,
     "metadata": {},
     "output_type": "execute_result"
    }
   ],
   "source": [
    "list = [1,4,6,\"a\",\"h\"]\n",
    "\"a\" in list\n",
    "# \"a\" in list\n",
    "\n"
   ]
  },
  {
   "cell_type": "code",
   "execution_count": 18,
   "metadata": {},
   "outputs": [
    {
     "data": {
      "text/plain": [
       "False"
      ]
     },
     "execution_count": 18,
     "metadata": {},
     "output_type": "execute_result"
    }
   ],
   "source": [
    "list = [1,4,6,\"a\",\"h\"]\n",
    "# \"a\" in list\n",
    "\"b\" in list"
   ]
  },
  {
   "cell_type": "markdown",
   "metadata": {},
   "source": [
    "Reversing a list"
   ]
  },
  {
   "cell_type": "code",
   "execution_count": 19,
   "metadata": {},
   "outputs": [
    {
     "name": "stdout",
     "output_type": "stream",
     "text": [
      "['Hello', 'Hi', 6, 5, 7, 2]\n"
     ]
    }
   ],
   "source": [
    "mylist = [2,7,5,6,\"Hi\",\"Hello\"]\n",
    "mylist.reverse()\n",
    "print(mylist)"
   ]
  },
  {
   "cell_type": "markdown",
   "metadata": {},
   "source": [
    "Program to interchange first and last element ina list"
   ]
  },
  {
   "cell_type": "code",
   "execution_count": 20,
   "metadata": {},
   "outputs": [
    {
     "name": "stdout",
     "output_type": "stream",
     "text": [
      "[3, 5, 7, 45, 65, 12, 31, 90, 65, 34, 2]\n",
      "11\n",
      "[2, 5, 7, 45, 65, 12, 31, 90, 65, 34, 3]\n"
     ]
    }
   ],
   "source": [
    "a = [3,5,7,45,65,12,31,90,65,34,2]\n",
    "print(a)\n",
    "\n",
    "print(len(a))\n",
    "b = a[0]\n",
    "a[0] = a[10]\n",
    "a[10] =b\n",
    "print(a)\n"
   ]
  },
  {
   "cell_type": "markdown",
   "metadata": {},
   "source": [
    "Find the sum of all the elements in the list"
   ]
  },
  {
   "cell_type": "code",
   "execution_count": 21,
   "metadata": {},
   "outputs": [
    {
     "name": "stdout",
     "output_type": "stream",
     "text": [
      "3\n",
      "8\n",
      "15\n",
      "60\n",
      "125\n",
      "137\n",
      "168\n",
      "258\n",
      "323\n",
      "357\n"
     ]
    }
   ],
   "source": [
    "a = [3,5,7,45,65,12,31,90,65,34,2]\n",
    "b=0\n",
    "for i in range(10):\n",
    "    b=b+a[i]\n",
    "    i=i+1\n",
    "    print(b)"
   ]
  }
 ],
 "metadata": {
  "kernelspec": {
   "display_name": "Python 3",
   "language": "python",
   "name": "python3"
  },
  "language_info": {
   "codemirror_mode": {
    "name": "ipython",
    "version": 3
   },
   "file_extension": ".py",
   "mimetype": "text/x-python",
   "name": "python",
   "nbconvert_exporter": "python",
   "pygments_lexer": "ipython3",
   "version": "3.11.1"
  }
 },
 "nbformat": 4,
 "nbformat_minor": 2
}
