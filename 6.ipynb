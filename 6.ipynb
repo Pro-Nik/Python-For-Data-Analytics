{
 "cells": [
  {
   "cell_type": "markdown",
   "metadata": {},
   "source": [
    "Day-6 \n",
    "User defined functions"
   ]
  },
  {
   "cell_type": "markdown",
   "metadata": {},
   "source": [
    "Creating and callinng the functions"
   ]
  },
  {
   "cell_type": "code",
   "execution_count": 2,
   "metadata": {},
   "outputs": [
    {
     "name": "stdout",
     "output_type": "stream",
     "text": [
      "My name is Nik\n",
      "My name is Nik\n"
     ]
    }
   ],
   "source": [
    "# How to create a function\n",
    "def func():\n",
    "    print(\"My name is Nik\")\n",
    "\n",
    "# How to call a function\n",
    "func()\n",
    "func()\n"
   ]
  },
  {
   "cell_type": "markdown",
   "metadata": {},
   "source": [
    "Making the result of students of s school"
   ]
  },
  {
   "cell_type": "code",
   "execution_count": 5,
   "metadata": {},
   "outputs": [],
   "source": [
    "def contact():\n",
    "    print(\"G.B.Public School\")\n",
    "    print(\"Tilpat, FBD\")\n",
    "    print(\"121003\")\n",
    "    print(\"Thanks for visiting. Have a good day!\")"
   ]
  },
  {
   "cell_type": "code",
   "execution_count": 6,
   "metadata": {},
   "outputs": [
    {
     "name": "stdout",
     "output_type": "stream",
     "text": [
      "Student name:  nik\n",
      "Class:  9\n",
      "Marks:  98\n",
      "G.B.Public School\n",
      "Tilpat, FBD\n",
      "121003\n",
      "Thanks for visiting. Have a good day!\n",
      "Student name:  meera\n",
      "Class:  8\n",
      "Marks:  89\n",
      "G.B.Public School\n",
      "Tilpat, FBD\n",
      "121003\n",
      "Thanks for visiting. Have a good day!\n",
      "Student name:  harsh\n",
      "Class:  5\n",
      "Marks:  76\n",
      "G.B.Public School\n",
      "Tilpat, FBD\n",
      "121003\n",
      "Thanks for visiting. Have a good day!\n"
     ]
    }
   ],
   "source": [
    "for i in range(3):\n",
    "    x=input(\"Enter the name of the student:\")\n",
    "    y=input(\"Enter the class:\")\n",
    "    z=int(input(\"Marks:\"))\n",
    "\n",
    "    print(\"Student name: \",x)\n",
    "    print(\"Class: \",y)\n",
    "    print(\"Marks: \",z)\n",
    "    contact()"
   ]
  },
  {
   "cell_type": "markdown",
   "metadata": {},
   "source": [
    "Arguments: Information can be passed innto function as argument.\n",
    "You can add many argumnts as you want just seperate  them with a comma"
   ]
  },
  {
   "cell_type": "code",
   "execution_count": 5,
   "metadata": {},
   "outputs": [
    {
     "name": "stdout",
     "output_type": "stream",
     "text": [
      "Muskan Yadav\n",
      "Nitish Yadav\n",
      "Meera Yadav\n"
     ]
    }
   ],
   "source": [
    "def last(fname):\n",
    "    print(fname +\" \"+ \"Yadav\")\n",
    "\n",
    "last(\"Muskan\")\n",
    "last(\"Nitish\")\n",
    "last(\"Meera\")"
   ]
  },
  {
   "cell_type": "code",
   "execution_count": 10,
   "metadata": {},
   "outputs": [],
   "source": [
    "def cal(no1,no2,op):\n",
    "    if(op==\"+\"):\n",
    "        print(\"Your answer is: \",no1+no2)\n",
    "    elif(op==\"-\"):\n",
    "        print(\"Your answer is: \",no1-no2)\n",
    "    elif(op==\"*\"):\n",
    "        print(\"Your answer is: \",no1*no2)\n",
    "    elif(op==\"/\"):\n",
    "        print(\"Your answer is: \",no1/no2)"
   ]
  },
  {
   "cell_type": "code",
   "execution_count": 11,
   "metadata": {},
   "outputs": [
    {
     "name": "stdout",
     "output_type": "stream",
     "text": [
      "Your answer is:  -3\n",
      "Your answer is:  28\n"
     ]
    }
   ],
   "source": [
    "cal(1,4,\"-\")\n",
    "cal(4,7,\"*\")"
   ]
  },
  {
   "cell_type": "markdown",
   "metadata": {},
   "source": [
    "WAP to check wheather the no is in the range or not"
   ]
  },
  {
   "cell_type": "code",
   "execution_count": 13,
   "metadata": {},
   "outputs": [],
   "source": [
    "def test_range(n):\n",
    "    if n in range(1,10):\n",
    "        print(\"%s is in the range\"%str(n))\n",
    "    else:\n",
    "        print(\"%s is not in range\"%str(n))"
   ]
  },
  {
   "cell_type": "code",
   "execution_count": 15,
   "metadata": {},
   "outputs": [
    {
     "name": "stdout",
     "output_type": "stream",
     "text": [
      "11 is not in range\n"
     ]
    }
   ],
   "source": [
    "test_range(11)"
   ]
  },
  {
   "cell_type": "markdown",
   "metadata": {},
   "source": [
    "Doc String"
   ]
  },
  {
   "cell_type": "code",
   "execution_count": 16,
   "metadata": {},
   "outputs": [],
   "source": [
    "def learn():\n",
    "    print(\"Hello i am a student\")\n",
    "    print(\"Pyhton is owesome\")"
   ]
  },
  {
   "cell_type": "code",
   "execution_count": 18,
   "metadata": {},
   "outputs": [
    {
     "name": "stdout",
     "output_type": "stream",
     "text": [
      "Hello i am a student\n",
      "Pyhton is owesome\n"
     ]
    }
   ],
   "source": [
    "learn()"
   ]
  },
  {
   "cell_type": "markdown",
   "metadata": {},
   "source": [
    "Default Argument"
   ]
  },
  {
   "cell_type": "code",
   "execution_count": 19,
   "metadata": {},
   "outputs": [],
   "source": [
    "def myfun(x,y=10):\n",
    "    print(\"x: \",x)\n",
    "    print(\"y: \",y)"
   ]
  },
  {
   "cell_type": "code",
   "execution_count": 23,
   "metadata": {},
   "outputs": [
    {
     "name": "stdout",
     "output_type": "stream",
     "text": [
      "x:  2\n",
      "y:  20\n"
     ]
    }
   ],
   "source": [
    "myfun(2,20)"
   ]
  },
  {
   "cell_type": "code",
   "execution_count": 24,
   "metadata": {},
   "outputs": [
    {
     "name": "stdout",
     "output_type": "stream",
     "text": [
      "Variable     Type        Data/Info\n",
      "----------------------------------\n",
      "cal          function    <function cal at 0x000001D00366B9C0>\n",
      "last         function    <function last at 0x000001D0031FE660>\n",
      "learn        function    <function learn at 0x000001D003669E40>\n",
      "myfun        function    <function myfun at 0x000001D003669A80>\n",
      "test_range   function    <function test_range at 0x000001D0031FE980>\n"
     ]
    }
   ],
   "source": [
    "%whos"
   ]
  },
  {
   "cell_type": "markdown",
   "metadata": {},
   "source": [
    "WAP to calculate the electricity bill of 5 customers"
   ]
  },
  {
   "cell_type": "code",
   "execution_count": 25,
   "metadata": {},
   "outputs": [],
   "source": [
    "def bill(n):\n",
    "    if n<=500:\n",
    "        print(\"Your bill is: \",n*5)\n",
    "    elif n>500 and n<=700:\n",
    "        print(\"Your bill is: \",n*10)\n",
    "    elif n>700 and n<=1000:\n",
    "        print(\"Your bill is: \",n*15)\n",
    "    elif n>1000:\n",
    "        print(\"Your bill is: \",n*20)\n",
    "\n"
   ]
  },
  {
   "cell_type": "code",
   "execution_count": 26,
   "metadata": {},
   "outputs": [],
   "source": [
    "def details():\n",
    "    print(\"Kindly submit till 20 march.\")\n",
    "    print(\"Thanks for visit!\")"
   ]
  },
  {
   "cell_type": "code",
   "execution_count": 27,
   "metadata": {},
   "outputs": [
    {
     "name": "stdout",
     "output_type": "stream",
     "text": [
      "nik\n",
      "Your bill is:  11700\n",
      "Kindly submit till 20 march.\n",
      "Thanks for visit!\n",
      "meera\n",
      "Your bill is:  2250\n",
      "Kindly submit till 20 march.\n",
      "Thanks for visit!\n",
      "muskan\n",
      "Your bill is:  12000\n",
      "Kindly submit till 20 march.\n",
      "Thanks for visit!\n"
     ]
    }
   ],
   "source": [
    "for i in range(3):\n",
    "   x = input(\"Enter the name: \")\n",
    "   print(x)\n",
    "   n= int(input(\"Enter the unit you consumed: \"))\n",
    "   bill(n)\n",
    "   details()"
   ]
  }
 ],
 "metadata": {
  "kernelspec": {
   "display_name": "Python 3",
   "language": "python",
   "name": "python3"
  },
  "language_info": {
   "codemirror_mode": {
    "name": "ipython",
    "version": 3
   },
   "file_extension": ".py",
   "mimetype": "text/x-python",
   "name": "python",
   "nbconvert_exporter": "python",
   "pygments_lexer": "ipython3",
   "version": "3.11.1"
  }
 },
 "nbformat": 4,
 "nbformat_minor": 2
}
