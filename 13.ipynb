{
 "cells": [
  {
   "cell_type": "markdown",
   "metadata": {},
   "source": [
    "Day-13"
   ]
  },
  {
   "cell_type": "markdown",
   "metadata": {},
   "source": [
    "NumPy Part-2"
   ]
  },
  {
   "cell_type": "markdown",
   "metadata": {},
   "source": [
    "Data types in python.  \n",
    "Numpy has some extra data types.  \n",
    " \n",
    "i-integer\n",
    "b-boolean\n",
    "u-unsigned integer\n",
    "f-float\n",
    "c-complex float\n",
    "m-timedelta\n",
    "M-datetime\n",
    "o-object\n",
    "s-string\n",
    "U-unicode string\n",
    "V-Fixed chunk of memeory for other type (void)"
   ]
  },
  {
   "cell_type": "markdown",
   "metadata": {},
   "source": [
    "Checking the data types of an array"
   ]
  },
  {
   "cell_type": "code",
   "execution_count": 1,
   "metadata": {},
   "outputs": [],
   "source": [
    "import numpy as np"
   ]
  },
  {
   "cell_type": "code",
   "execution_count": 2,
   "metadata": {},
   "outputs": [
    {
     "name": "stdout",
     "output_type": "stream",
     "text": [
      "int32\n"
     ]
    }
   ],
   "source": [
    "arr = np.array([1,2,3,4])\n",
    "print(arr.dtype)"
   ]
  },
  {
   "cell_type": "code",
   "execution_count": 3,
   "metadata": {},
   "outputs": [
    {
     "name": "stdout",
     "output_type": "stream",
     "text": [
      "<U5\n"
     ]
    }
   ],
   "source": [
    "arr = np.array([\"hi\",\"Hello\"])\n",
    "print(arr.dtype)"
   ]
  },
  {
   "cell_type": "markdown",
   "metadata": {},
   "source": [
    "Creating arrays with a defined Data type"
   ]
  },
  {
   "cell_type": "code",
   "execution_count": 1,
   "metadata": {},
   "outputs": [],
   "source": [
    "import numpy as np"
   ]
  },
  {
   "cell_type": "code",
   "execution_count": 4,
   "metadata": {},
   "outputs": [
    {
     "name": "stdout",
     "output_type": "stream",
     "text": [
      "[b'9' b'2' b'3' b'4']\n",
      "|S1\n"
     ]
    }
   ],
   "source": [
    "\n",
    "arr = np.array([9,2,3,4], dtype= 'S')\n",
    "print(arr)\n",
    "print(arr.dtype)"
   ]
  },
  {
   "cell_type": "markdown",
   "metadata": {},
   "source": [
    "CReate an array with data type 4 bytes integer"
   ]
  },
  {
   "cell_type": "code",
   "execution_count": 5,
   "metadata": {},
   "outputs": [
    {
     "name": "stdout",
     "output_type": "stream",
     "text": [
      "[1 2 3 4]\n",
      "int32\n"
     ]
    }
   ],
   "source": [
    "arr = np.array([1,2,3,4], dtype= 'i4')\n",
    "print(arr)\n",
    "print(arr.dtype)"
   ]
  },
  {
   "cell_type": "markdown",
   "metadata": {},
   "source": [
    "NumPy array shape"
   ]
  },
  {
   "cell_type": "markdown",
   "metadata": {},
   "source": [
    "The shape of an array is the elements in each dimension"
   ]
  },
  {
   "cell_type": "code",
   "execution_count": 6,
   "metadata": {},
   "outputs": [
    {
     "name": "stdout",
     "output_type": "stream",
     "text": [
      "(2, 4)\n"
     ]
    }
   ],
   "source": [
    "arr = np.array([[1,2,3,4],[5,6,7,8]])\n",
    "print(arr.shape)\n"
   ]
  },
  {
   "cell_type": "code",
   "execution_count": 8,
   "metadata": {},
   "outputs": [
    {
     "name": "stdout",
     "output_type": "stream",
     "text": [
      "[[[[[1 2 3 4]]]]]\n",
      "(1, 1, 1, 1, 4)\n"
     ]
    }
   ],
   "source": [
    "arr = np.array([1,2,3,4], ndmin=5)\n",
    "print(arr)\n",
    "print(arr.shape)\n"
   ]
  },
  {
   "cell_type": "markdown",
   "metadata": {},
   "source": [
    "Joining numPy arrays"
   ]
  },
  {
   "cell_type": "code",
   "execution_count": 11,
   "metadata": {},
   "outputs": [
    {
     "name": "stdout",
     "output_type": "stream",
     "text": [
      "[1 2 3 4 6]\n"
     ]
    }
   ],
   "source": [
    "arr1 = np.array([1,2,3])\n",
    "arr2 = np.array([4,6])\n",
    "\n",
    "arr = np.concatenate((arr1,arr2))\n",
    "print(arr)"
   ]
  },
  {
   "cell_type": "markdown",
   "metadata": {},
   "source": [
    "Join two 2-D arrays along rows(axis=1) Rows"
   ]
  },
  {
   "cell_type": "code",
   "execution_count": 12,
   "metadata": {},
   "outputs": [
    {
     "name": "stdout",
     "output_type": "stream",
     "text": [
      "[[1 2 3 2 4 6]\n",
      " [4 5 6 3 6 9]]\n"
     ]
    }
   ],
   "source": [
    "arr1 = np.array([[1,2,3],[4,5,6]])\n",
    "arr2 = np.array([[2,4,6],[3,6,9]])\n",
    "\n",
    "arr= np.concatenate((arr1,arr2),axis=1)\n",
    "print(arr)\n"
   ]
  },
  {
   "cell_type": "markdown",
   "metadata": {},
   "source": [
    "Join two 2-D array along coloumn(axis=0)"
   ]
  },
  {
   "cell_type": "code",
   "execution_count": 13,
   "metadata": {},
   "outputs": [
    {
     "name": "stdout",
     "output_type": "stream",
     "text": [
      "[[1 2 3]\n",
      " [4 5 6]\n",
      " [2 4 6]\n",
      " [3 6 9]]\n"
     ]
    }
   ],
   "source": [
    "arr1 = np.array([[1,2,3],[4,5,6]])\n",
    "arr2 = np.array([[2,4,6],[3,6,9]])\n",
    "\n",
    "arr= np.concatenate((arr1,arr2),axis=0)\n",
    "print(arr)"
   ]
  },
  {
   "cell_type": "markdown",
   "metadata": {},
   "source": [
    "Spliting NumPy arrays"
   ]
  },
  {
   "cell_type": "markdown",
   "metadata": {},
   "source": [
    "Splitting is reverse of joining. Joining mearges multiple arrays into one and spitting one array into multiple"
   ]
  },
  {
   "cell_type": "markdown",
   "metadata": {},
   "source": [
    "Split the array into 3 Parts"
   ]
  },
  {
   "cell_type": "code",
   "execution_count": 17,
   "metadata": {},
   "outputs": [
    {
     "name": "stdout",
     "output_type": "stream",
     "text": [
      "[array([1, 2, 3]), array([4, 5]), array([6, 7])]\n",
      "[array([1, 2]), array([3, 4]), array([5, 6]), array([7])]\n",
      "[array([1]), array([2]), array([3]), array([4]), array([5]), array([6]), array([7])]\n"
     ]
    }
   ],
   "source": [
    "arr = np.array([1,2,3,4,5,6,7])\n",
    "new = np.array_split(arr,3)\n",
    "new1 = np.array_split(arr,4)\n",
    "new2 = np.array_split(arr,7)\n",
    "\n",
    "print(new)\n",
    "print(new1)\n",
    "print(new2)"
   ]
  },
  {
   "cell_type": "markdown",
   "metadata": {},
   "source": [
    "Ravel & flatten- Converts multidimensional into 1d array"
   ]
  },
  {
   "cell_type": "code",
   "execution_count": 22,
   "metadata": {},
   "outputs": [
    {
     "name": "stdout",
     "output_type": "stream",
     "text": [
      "[[[1 2 3]\n",
      "  [4 5 6]]\n",
      "\n",
      " [[5 8 9]\n",
      "  [1 6 3]]]\n",
      "(2, 2, 3)\n",
      "[1 2 3 4 5 6 5 8 9 1 6 3]\n"
     ]
    }
   ],
   "source": [
    "m = np.array([[[1,2,3],[4,5,6]],[[5,8,9],[1,6,3]]])\n",
    "print(m)\n",
    "print(m.shape)\n",
    "n = m.ravel()\n",
    "print(n)"
   ]
  },
  {
   "cell_type": "code",
   "execution_count": 23,
   "metadata": {},
   "outputs": [
    {
     "name": "stdout",
     "output_type": "stream",
     "text": [
      "[[[1 2 3]\n",
      "  [4 5 6]]\n",
      "\n",
      " [[5 8 9]\n",
      "  [1 6 3]]]\n",
      "(2, 2, 3)\n",
      "[1 2 3 4 5 6 5 8 9 1 6 3]\n"
     ]
    }
   ],
   "source": [
    "m = np.array([[[1,2,3],[4,5,6]],[[5,8,9],[1,6,3]]])\n",
    "print(m)\n",
    "print(m.shape)\n",
    "n = m.flatten()\n",
    "print(n)"
   ]
  },
  {
   "cell_type": "markdown",
   "metadata": {},
   "source": [
    "Arithmetic operations in numpy arrays"
   ]
  },
  {
   "cell_type": "markdown",
   "metadata": {},
   "source": [
    "Addition"
   ]
  },
  {
   "cell_type": "code",
   "execution_count": 25,
   "metadata": {},
   "outputs": [
    {
     "name": "stdout",
     "output_type": "stream",
     "text": [
      "[1 2 3 4 5]\n",
      "[4 5 6 7 8]\n"
     ]
    }
   ],
   "source": [
    "x = np.array([1,2,3,4,5])\n",
    "y = x+3\n",
    "print(x)\n",
    "print(y)"
   ]
  },
  {
   "cell_type": "code",
   "execution_count": 28,
   "metadata": {},
   "outputs": [
    {
     "name": "stdout",
     "output_type": "stream",
     "text": [
      "[1 2 3 4 5]\n",
      "[ 6  7  8  9 10]\n",
      "[ 7  9 11 13 15]\n"
     ]
    }
   ],
   "source": [
    "x = np.array([1,2,3,4,5])\n",
    "y = np.array([6,7,8,9,10])\n",
    "z = x+y\n",
    "print(x)\n",
    "print(y)\n",
    "print(z)"
   ]
  },
  {
   "cell_type": "code",
   "execution_count": 29,
   "metadata": {},
   "outputs": [
    {
     "name": "stdout",
     "output_type": "stream",
     "text": [
      "[ 7  9 11 13 15]\n"
     ]
    }
   ],
   "source": [
    "x = np.array([1,2,3,4,5])\n",
    "y = np.array([6,7,8,9,10])\n",
    "z = np.add(x,y)\n",
    "print(z)"
   ]
  },
  {
   "cell_type": "markdown",
   "metadata": {},
   "source": [
    "Subtraction"
   ]
  },
  {
   "cell_type": "code",
   "execution_count": 30,
   "metadata": {},
   "outputs": [
    {
     "name": "stdout",
     "output_type": "stream",
     "text": [
      "[1 2 3 4 5]\n",
      "[-3 -2 -1  0  1]\n"
     ]
    }
   ],
   "source": [
    "x = np.array([1,2,3,4,5])\n",
    "y = x-4\n",
    "print(x)\n",
    "print(y)"
   ]
  },
  {
   "cell_type": "code",
   "execution_count": 32,
   "metadata": {},
   "outputs": [
    {
     "name": "stdout",
     "output_type": "stream",
     "text": [
      "[1 2 3 4 5]\n",
      "[ 6  7  8  9 10]\n",
      "[5 5 5 5 5]\n"
     ]
    }
   ],
   "source": [
    "y = np.array([6,7,8,9,10])\n",
    "x = np.array([1,2,3,4,5])\n",
    "z = y-x\n",
    "print(x)\n",
    "print(y)\n",
    "print(z)"
   ]
  },
  {
   "cell_type": "code",
   "execution_count": 33,
   "metadata": {},
   "outputs": [
    {
     "name": "stdout",
     "output_type": "stream",
     "text": [
      "[1 2 3 4 5]\n",
      "[ 6  7  8  9 10]\n",
      "[5 5 5 5 5]\n"
     ]
    }
   ],
   "source": [
    "y = np.array([6,7,8,9,10])\n",
    "x = np.array([1,2,3,4,5])\n",
    "z = np.subtract(y,x)\n",
    "print(x)\n",
    "print(y)\n",
    "print(z)"
   ]
  },
  {
   "cell_type": "markdown",
   "metadata": {},
   "source": [
    "Multiplication"
   ]
  },
  {
   "cell_type": "code",
   "execution_count": 2,
   "metadata": {},
   "outputs": [
    {
     "name": "stdout",
     "output_type": "stream",
     "text": [
      "[ 3  6  9 12]\n"
     ]
    }
   ],
   "source": [
    "import numpy as np\n",
    "x = np.array([1,2,3,4])\n",
    "y =x*3\n",
    "print(y)"
   ]
  },
  {
   "cell_type": "code",
   "execution_count": 4,
   "metadata": {},
   "outputs": [
    {
     "name": "stdout",
     "output_type": "stream",
     "text": [
      "[1 2 3 4]\n",
      "[5 6 7 8]\n",
      "[ 5 12 21 32]\n"
     ]
    }
   ],
   "source": [
    "x = np.array([1,2,3,4])\n",
    "y = np.array([5,6,7,8])\n",
    "z = x*y\n",
    "print(x)\n",
    "print(y)\n",
    "print(z)"
   ]
  },
  {
   "cell_type": "code",
   "execution_count": 5,
   "metadata": {},
   "outputs": [
    {
     "name": "stdout",
     "output_type": "stream",
     "text": [
      "[1 2 3 4]\n",
      "[5 6 7 8]\n",
      "[ 5 12 21 32]\n"
     ]
    }
   ],
   "source": [
    "x = np.array([1,2,3,4])\n",
    "y = np.array([5,6,7,8])\n",
    "z = np.multiply(x,y)\n",
    "print(x)\n",
    "print(y)\n",
    "print(z)"
   ]
  },
  {
   "cell_type": "markdown",
   "metadata": {},
   "source": [
    "Division"
   ]
  },
  {
   "cell_type": "code",
   "execution_count": 6,
   "metadata": {},
   "outputs": [
    {
     "name": "stdout",
     "output_type": "stream",
     "text": [
      "[0.33333333 0.66666667 1.         1.33333333 1.66666667]\n"
     ]
    }
   ],
   "source": [
    "x = np.array([1,2,3,4,5])\n",
    "y = x/3\n",
    "print(y)"
   ]
  },
  {
   "cell_type": "code",
   "execution_count": 7,
   "metadata": {},
   "outputs": [
    {
     "name": "stdout",
     "output_type": "stream",
     "text": [
      "[0.16666667 0.28571429 0.375      0.44444444 0.5       ]\n"
     ]
    }
   ],
   "source": [
    "x = np.array([1,2,3,4,5])\n",
    "y = np.array([6,7,8,9,10])\n",
    "z = np.divide(x,y)\n",
    "print(z)"
   ]
  },
  {
   "cell_type": "markdown",
   "metadata": {},
   "source": [
    "Modulous"
   ]
  },
  {
   "cell_type": "code",
   "execution_count": 8,
   "metadata": {},
   "outputs": [
    {
     "name": "stdout",
     "output_type": "stream",
     "text": [
      "[1 0 2 1]\n"
     ]
    }
   ],
   "source": [
    "x = np.array([10,15,20,25])\n",
    "y = x%3\n",
    "print(y)"
   ]
  },
  {
   "cell_type": "code",
   "execution_count": 10,
   "metadata": {},
   "outputs": [
    {
     "name": "stdout",
     "output_type": "stream",
     "text": [
      "[1 2 3 4 5]\n",
      "[0 1 2 1 0]\n"
     ]
    }
   ],
   "source": [
    "x = np.array([1,2,3,4,5])\n",
    "y = np.array([6,7,8,9,10])\n",
    "z = x%y\n",
    "m= y%x\n",
    "print(z)\n",
    "print(m)"
   ]
  },
  {
   "cell_type": "code",
   "execution_count": 12,
   "metadata": {},
   "outputs": [
    {
     "name": "stdout",
     "output_type": "stream",
     "text": [
      "[1 2 3 4 5]\n",
      "[ 6  7  8  9 10]\n",
      "[1 2 3 4 5]\n"
     ]
    }
   ],
   "source": [
    "x = np.array([1,2,3,4,5])\n",
    "y = np.array([6,7,8,9,10])\n",
    "z = np.mod(x,y)\n",
    "print(x)\n",
    "print(y)\n",
    "print(z)"
   ]
  },
  {
   "cell_type": "markdown",
   "metadata": {},
   "source": [
    "Arithmetic operations in 2-D array"
   ]
  },
  {
   "cell_type": "code",
   "execution_count": 14,
   "metadata": {},
   "outputs": [
    {
     "name": "stdout",
     "output_type": "stream",
     "text": [
      "[[1 2 3]\n",
      " [4 5 6]]\n",
      "[[2 4 6]\n",
      " [3 6 9]]\n",
      "[[ 3  6  9]\n",
      " [ 7 11 15]]\n"
     ]
    }
   ],
   "source": [
    "n1 = np.array([[1,2,3],[4,5,6]])\n",
    "n2 = np.array([[2,4,6],[3,6,9]])\n",
    "arr = n1+n2\n",
    "print(n1)\n",
    "print(n2)\n",
    "print(arr)"
   ]
  },
  {
   "cell_type": "code",
   "execution_count": 15,
   "metadata": {},
   "outputs": [
    {
     "name": "stdout",
     "output_type": "stream",
     "text": [
      "[[1 2 3]\n",
      " [4 5 6]]\n",
      "[[2 4 6]\n",
      " [3 6 9]]\n",
      "[[ 1  2  3]\n",
      " [-1  1  3]]\n"
     ]
    }
   ],
   "source": [
    "n1 = np.array([[1,2,3],[4,5,6]])\n",
    "n2 = np.array([[2,4,6],[3,6,9]])\n",
    "x = n2-n1\n",
    "print(n1)\n",
    "print(n2)\n",
    "print(x)"
   ]
  },
  {
   "cell_type": "code",
   "execution_count": 16,
   "metadata": {},
   "outputs": [
    {
     "name": "stdout",
     "output_type": "stream",
     "text": [
      "[[1 2 3]\n",
      " [4 5 6]]\n",
      "[[2 4 6]\n",
      " [3 6 9]]\n",
      "[[ 2  8 18]\n",
      " [12 30 54]]\n"
     ]
    }
   ],
   "source": [
    "n1 = np.array([[1,2,3],[4,5,6]])\n",
    "n2 = np.array([[2,4,6],[3,6,9]])\n",
    "y = n1*n2\n",
    "print(n1)\n",
    "print(n2)\n",
    "print(y)"
   ]
  },
  {
   "cell_type": "code",
   "execution_count": 17,
   "metadata": {},
   "outputs": [
    {
     "name": "stdout",
     "output_type": "stream",
     "text": [
      "[[1 2 3]\n",
      " [4 5 6]]\n",
      "[[2 4 6]\n",
      " [3 6 9]]\n",
      "[[0.5        0.5        0.5       ]\n",
      " [1.33333333 0.83333333 0.66666667]]\n"
     ]
    }
   ],
   "source": [
    "n1 = np.array([[1,2,3],[4,5,6]])\n",
    "n2 = np.array([[2,4,6],[3,6,9]])\n",
    "z = n1/n2\n",
    "print(n1)\n",
    "print(n2)\n",
    "print(z)"
   ]
  },
  {
   "cell_type": "code",
   "execution_count": 18,
   "metadata": {},
   "outputs": [
    {
     "name": "stdout",
     "output_type": "stream",
     "text": [
      "[[1 2 3]\n",
      " [4 5 6]]\n",
      "[[2 4 6]\n",
      " [3 6 9]]\n",
      "[[1 2 3]\n",
      " [1 5 6]]\n"
     ]
    }
   ],
   "source": [
    "n1 = np.array([[1,2,3],[4,5,6]])\n",
    "n2 = np.array([[2,4,6],[3,6,9]])\n",
    "n3 = n1%n2\n",
    "print(n1)\n",
    "print(n2)\n",
    "print(n3)"
   ]
  },
  {
   "cell_type": "markdown",
   "metadata": {},
   "source": [
    "Arithmetic operation- 3D array"
   ]
  },
  {
   "cell_type": "code",
   "execution_count": 20,
   "metadata": {},
   "outputs": [
    {
     "name": "stdout",
     "output_type": "stream",
     "text": [
      "[[[1 2 3 4]\n",
      "  [5 6 7 8]]]\n",
      "[[[ 2  4  6  8]\n",
      "  [ 3  6  9 12]]]\n",
      "[[[ 3  6  9 12]\n",
      "  [ 8 12 16 20]]]\n",
      "3\n"
     ]
    }
   ],
   "source": [
    "n1 = np.array([[[1,2,3,4],[5,6,7,8]]])\n",
    "n2 = np.array([[[2,4,6,8],[3,6,9,12]]])\n",
    "x = n1+n2\n",
    "print(n1)\n",
    "print(n2)\n",
    "print(x)\n",
    "print(x.ndim)"
   ]
  },
  {
   "cell_type": "code",
   "execution_count": 21,
   "metadata": {},
   "outputs": [
    {
     "name": "stdout",
     "output_type": "stream",
     "text": [
      "[[[-1 -2 -3 -4]\n",
      "  [ 2  0 -2 -4]]]\n",
      "3\n"
     ]
    }
   ],
   "source": [
    "n1 = np.array([[[1,2,3,4],[5,6,7,8]]])\n",
    "n2 = np.array([[[2,4,6,8],[3,6,9,12]]])\n",
    "x = n1-n2\n",
    "print(x)\n",
    "print(x.ndim)"
   ]
  },
  {
   "cell_type": "code",
   "execution_count": 23,
   "metadata": {},
   "outputs": [
    {
     "name": "stdout",
     "output_type": "stream",
     "text": [
      "[[[ 2  8 18 32]\n",
      "  [15 36 63 96]]]\n",
      "3\n"
     ]
    }
   ],
   "source": [
    "n1 = np.array([[[1,2,3,4],[5,6,7,8]]])\n",
    "n2 = np.array([[[2,4,6,8],[3,6,9,12]]])\n",
    "x = n1*n2\n",
    "print(x)\n",
    "print(x.ndim)"
   ]
  },
  {
   "cell_type": "code",
   "execution_count": 24,
   "metadata": {},
   "outputs": [
    {
     "name": "stdout",
     "output_type": "stream",
     "text": [
      "[[[0.5        0.5        0.5        0.5       ]\n",
      "  [1.66666667 1.         0.77777778 0.66666667]]]\n",
      "3\n"
     ]
    }
   ],
   "source": [
    "n1 = np.array([[[1,2,3,4],[5,6,7,8]]])\n",
    "n2 = np.array([[[2,4,6,8],[3,6,9,12]]])\n",
    "x = n1/n2\n",
    "print(x)\n",
    "print(x.ndim)"
   ]
  },
  {
   "cell_type": "markdown",
   "metadata": {},
   "source": [
    "Unique Function"
   ]
  },
  {
   "cell_type": "code",
   "execution_count": 28,
   "metadata": {},
   "outputs": [
    {
     "name": "stdout",
     "output_type": "stream",
     "text": [
      "[12 23  5 64 78 56  8  9 10 11 45 78  9 23 56 48 16]\n",
      "[ 5  8  9 10 11 12 16 23 45 48 56 64 78]\n"
     ]
    }
   ],
   "source": [
    "k = np.array([12,23,5,64,78,56,8,9,10,11,45,78,9,23,56,48,16])\n",
    "print(k)\n",
    "x = np.unique(k)\n",
    "print(x)"
   ]
  },
  {
   "cell_type": "code",
   "execution_count": 29,
   "metadata": {},
   "outputs": [
    {
     "name": "stdout",
     "output_type": "stream",
     "text": [
      "[12 23  5 64 78 56  8  9 10 11 45 78  9 23 56 48 16]\n",
      "(array([ 5,  8,  9, 10, 11, 12, 16, 23, 45, 48, 56, 64, 78]), array([ 2,  6,  7,  8,  9,  0, 16,  1, 10, 15,  5,  3,  4], dtype=int64))\n"
     ]
    }
   ],
   "source": [
    "k = np.array([12,23,5,64,78,56,8,9,10,11,45,78,9,23,56,48,16])\n",
    "print(k)\n",
    "x = np.unique(k,return_index= True)\n",
    "print(x)"
   ]
  },
  {
   "cell_type": "code",
   "execution_count": 30,
   "metadata": {},
   "outputs": [
    {
     "name": "stdout",
     "output_type": "stream",
     "text": [
      "[12 23  5 64 78 56  8  9 10 11 45 78  9 23 56 48 16]\n",
      "(array([ 5,  8,  9, 10, 11, 12, 16, 23, 45, 48, 56, 64, 78]), array([ 2,  6,  7,  8,  9,  0, 16,  1, 10, 15,  5,  3,  4], dtype=int64), array([1, 1, 2, 1, 1, 1, 1, 2, 1, 1, 2, 1, 2], dtype=int64))\n"
     ]
    }
   ],
   "source": [
    "k = np.array([12,23,5,64,78,56,8,9,10,11,45,78,9,23,56,48,16])\n",
    "print(k)\n",
    "x = np.unique(k,return_index= True, return_counts=True)\n",
    "print(x)"
   ]
  },
  {
   "cell_type": "markdown",
   "metadata": {},
   "source": [
    "Delete"
   ]
  },
  {
   "cell_type": "code",
   "execution_count": 31,
   "metadata": {},
   "outputs": [
    {
     "name": "stdout",
     "output_type": "stream",
     "text": [
      "[12 13 14 15]\n",
      "\n",
      "[12 13 15]\n"
     ]
    }
   ],
   "source": [
    "a = np.array([12,13,14,15])\n",
    "print(a)\n",
    "print()\n",
    "d = np.delete(a,[2])\n",
    "print(d)"
   ]
  },
  {
   "cell_type": "code",
   "execution_count": 36,
   "metadata": {},
   "outputs": [
    {
     "name": "stdout",
     "output_type": "stream",
     "text": [
      "[[2 3 4 5]\n",
      " [6 7 8 9]\n",
      " [2 4 6 8]]\n",
      "\n",
      "[[2 3 4 5]\n",
      " [2 4 6 8]]\n",
      "\n",
      "[[2 4 5]\n",
      " [6 8 9]\n",
      " [2 6 8]]\n"
     ]
    }
   ],
   "source": [
    "x = np.array([[2,3,4,5],[6,7,8,9],[2,4,6,8]])\n",
    "print(x)\n",
    "print()\n",
    "m = np.delete(x ,1, axis = 0)\n",
    "n = np.delete(x ,1, axis = 1)\n",
    "\n",
    "print(m)\n",
    "print()\n",
    "print(n)"
   ]
  }
 ],
 "metadata": {
  "kernelspec": {
   "display_name": "Python 3",
   "language": "python",
   "name": "python3"
  },
  "language_info": {
   "codemirror_mode": {
    "name": "ipython",
    "version": 3
   },
   "file_extension": ".py",
   "mimetype": "text/x-python",
   "name": "python",
   "nbconvert_exporter": "python",
   "pygments_lexer": "ipython3",
   "version": "3.11.1"
  }
 },
 "nbformat": 4,
 "nbformat_minor": 2
}
