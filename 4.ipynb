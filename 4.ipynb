{
 "cells": [
  {
   "cell_type": "markdown",
   "metadata": {},
   "source": [
    "Control flow statement"
   ]
  },
  {
   "cell_type": "markdown",
   "metadata": {},
   "source": [
    "if condition"
   ]
  },
  {
   "cell_type": "code",
   "execution_count": 1,
   "metadata": {},
   "outputs": [
    {
     "name": "stdout",
     "output_type": "stream",
     "text": [
      "The student percentage is:  81.2\n"
     ]
    }
   ],
   "source": [
    "x= input(\"Enter the name of the student: \")\n",
    "a= int(input(\"Enter the maths marks: \"))\n",
    "b= int(input(\"Enter the science marks: \"))\n",
    "c= int(input(\"Enter the social marks: \"))\n",
    "d= int(input(\"Enter the english marks: \"))\n",
    "e= int(input(\"Enter the hindi marks: \"))\n",
    "sum= a+b+c+d+e\n",
    "marks = sum/5\n",
    "print(\"The student percentage is: \", marks)\n"
   ]
  },
  {
   "cell_type": "code",
   "execution_count": 3,
   "metadata": {},
   "outputs": [
    {
     "name": "stdout",
     "output_type": "stream",
     "text": [
      "Error\n"
     ]
    }
   ],
   "source": [
    "x = int(input(\"Enter the no: \"))\n",
    "\n",
    "if(x>15):\n",
    "    print(\"No is greater than 15.\")\n",
    "print(\"Error\")"
   ]
  },
  {
   "cell_type": "code",
   "execution_count": 6,
   "metadata": {},
   "outputs": [
    {
     "name": "stdout",
     "output_type": "stream",
     "text": [
      "You scored grade B\n"
     ]
    }
   ],
   "source": [
    "marks= int(input(\"Enter the marks of the student: \"))\n",
    "if(marks>=90):\n",
    "    print(\"You scored grade A.\")\n",
    "if(marks>=75 and marks<90):\n",
    "    print(\"You scored grade B\")\n",
    "if(marks>=40 and marks<75):\n",
    "    print(\"You scored grade C\")\n",
    "if(marks<40):\n",
    "    print(\"You are fail.\")"
   ]
  },
  {
   "cell_type": "markdown",
   "metadata": {},
   "source": [
    "if-else Statement"
   ]
  },
  {
   "cell_type": "code",
   "execution_count": 8,
   "metadata": {},
   "outputs": [
    {
     "name": "stdout",
     "output_type": "stream",
     "text": [
      "The no is odd.\n"
     ]
    }
   ],
   "source": [
    "x = int(input(\"Enter the no: \"))\n",
    "if(x%2==0):\n",
    "    print(\"The no is even.\")\n",
    "else:\n",
    "    print(\"The no is odd.\")"
   ]
  },
  {
   "cell_type": "code",
   "execution_count": 11,
   "metadata": {},
   "outputs": [
    {
     "name": "stdout",
     "output_type": "stream",
     "text": [
      "You are eligible for voting in India.\n"
     ]
    }
   ],
   "source": [
    "y= int(input(\"Enter the age of the citizen: \"))\n",
    "if(y>=18):\n",
    "    print(\"You are eligible for voting in India.\")\n",
    "else:\n",
    "    print(\"You can`t vote in India\")"
   ]
  },
  {
   "cell_type": "markdown",
   "metadata": {},
   "source": [
    "if-elif-else Statement"
   ]
  },
  {
   "cell_type": "code",
   "execution_count": 2,
   "metadata": {},
   "outputs": [
    {
     "name": "stdout",
     "output_type": "stream",
     "text": [
      "Red-Fort\n"
     ]
    }
   ],
   "source": [
    "city = input(\"Enter the city name:\")\n",
    "if city== \"Delhi\":\n",
    "    print(\"Red-Fort\")\n",
    "elif city == \"Agra\":\n",
    "    print(\"Taj-Mahal\")\n",
    "elif city==\"Jaipur\":\n",
    "    print(\"Jal-Mahal\")\n",
    "elif city == \"Hydrabad\":\n",
    "    print(\"Charminar\")\n",
    "else:\n",
    "    print(\"No record found!\")"
   ]
  },
  {
   "cell_type": "markdown",
   "metadata": {},
   "source": [
    "Accept the no of days from the user and calculate the charge of a library "
   ]
  },
  {
   "cell_type": "code",
   "execution_count": 10,
   "metadata": {},
   "outputs": [
    {
     "name": "stdout",
     "output_type": "stream",
     "text": [
      "Your charge is:  30\n"
     ]
    }
   ],
   "source": [
    "day = int(input(\"Enter the no of days:\"))\n",
    "\n",
    "if day<=5:\n",
    "    print(\"Your charge is: \", day*2)\n",
    "elif day>5 and day<=10:\n",
    "    print(\"Your charge is: \", day*3)\n",
    "elif day>10 and day<=15:\n",
    "    print(\"Your charge is: \",day*4)\n",
    "else:\n",
    "    print(\"Your charge is: \",day*5)\n"
   ]
  },
  {
   "cell_type": "code",
   "execution_count": null,
   "metadata": {},
   "outputs": [],
   "source": []
  }
 ],
 "metadata": {
  "kernelspec": {
   "display_name": "Python 3",
   "language": "python",
   "name": "python3"
  },
  "language_info": {
   "codemirror_mode": {
    "name": "ipython",
    "version": 3
   },
   "file_extension": ".py",
   "mimetype": "text/x-python",
   "name": "python",
   "nbconvert_exporter": "python",
   "pygments_lexer": "ipython3",
   "version": "3.11.1"
  }
 },
 "nbformat": 4,
 "nbformat_minor": 2
}
